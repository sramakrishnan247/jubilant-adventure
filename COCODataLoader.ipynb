{
  "nbformat": 4,
  "nbformat_minor": 0,
  "metadata": {
    "colab": {
      "name": "COCODataLoader.ipynb",
      "provenance": [],
      "authorship_tag": "ABX9TyMHaNXoc9MhnB9Ua2XIjTg0",
      "include_colab_link": true
    },
    "kernelspec": {
      "name": "python3",
      "display_name": "Python 3"
    },
    "language_info": {
      "name": "python"
    }
  },
  "cells": [
    {
      "cell_type": "markdown",
      "metadata": {
        "id": "view-in-github",
        "colab_type": "text"
      },
      "source": [
        "<a href=\"https://colab.research.google.com/github/sramakrishnan247/jubilant-adventure/blob/main/COCODataLoader.ipynb\" target=\"_parent\"><img src=\"https://colab.research.google.com/assets/colab-badge.svg\" alt=\"Open In Colab\"/></a>"
      ]
    },
    {
      "cell_type": "code",
      "metadata": {
        "id": "KMdNijqC_Rhh"
      },
      "source": [
        "import torch\n",
        "import torchvision.transforms as transforms\n",
        "import torch.utils.data as data\n",
        "import os\n",
        "import pickle\n",
        "import numpy as np\n",
        "import nltk\n",
        "from PIL import Image\n",
        "from pycocotools.coco import COCO\n",
        "import random\n",
        "import skimage.io as io\n",
        "import matplotlib.pyplot as plt\n",
        "from torchvision.utils import make_grid\n",
        "import torchvision.transforms.functional as F"
      ],
      "execution_count": 185,
      "outputs": []
    },
    {
      "cell_type": "markdown",
      "metadata": {
        "id": "1AiKatfJ9nYF"
      },
      "source": [
        "#### Download Annotations"
      ]
    },
    {
      "cell_type": "code",
      "metadata": {
        "colab": {
          "base_uri": "https://localhost:8080/"
        },
        "id": "jcOn4MNG8oDZ",
        "outputId": "e36667a3-b62e-4759-ea41-c95c43ddfbe9"
      },
      "source": [
        "!wget http://images.cocodataset.org/annotations/annotations_trainval2017.zip"
      ],
      "execution_count": 115,
      "outputs": [
        {
          "output_type": "stream",
          "text": [
            "--2021-06-17 17:13:46--  http://images.cocodataset.org/annotations/annotations_trainval2017.zip\n",
            "Resolving images.cocodataset.org (images.cocodataset.org)... 52.216.240.212\n",
            "Connecting to images.cocodataset.org (images.cocodataset.org)|52.216.240.212|:80... connected.\n",
            "HTTP request sent, awaiting response... 200 OK\n",
            "Length: 252907541 (241M) [application/zip]\n",
            "Saving to: ‘annotations_trainval2017.zip.1’\n",
            "\n",
            "annotations_trainva 100%[===================>] 241.19M  36.1MB/s    in 7.2s    \n",
            "\n",
            "2021-06-17 17:13:54 (33.7 MB/s) - ‘annotations_trainval2017.zip.1’ saved [252907541/252907541]\n",
            "\n"
          ],
          "name": "stdout"
        }
      ]
    },
    {
      "cell_type": "code",
      "metadata": {
        "colab": {
          "base_uri": "https://localhost:8080/"
        },
        "id": "4EHKu9Pr8q24",
        "outputId": "87335f1e-e7cc-40d2-f32c-15383ae94df5"
      },
      "source": [
        "!unzip annotations_trainval2017.zip >/dev/null"
      ],
      "execution_count": 133,
      "outputs": [
        {
          "output_type": "stream",
          "text": [
            "replace annotations/instances_train2017.json? [y]es, [n]o, [A]ll, [N]one, [r]ename: N\n"
          ],
          "name": "stdout"
        }
      ]
    },
    {
      "cell_type": "code",
      "metadata": {
        "id": "QZTohA3V8v6O"
      },
      "source": [
        "annFile='./annotations/instances_val2017.json'"
      ],
      "execution_count": 117,
      "outputs": []
    },
    {
      "cell_type": "markdown",
      "metadata": {
        "id": "C1gFVhDM9rVr"
      },
      "source": [
        "#### Download images"
      ]
    },
    {
      "cell_type": "code",
      "metadata": {
        "colab": {
          "base_uri": "https://localhost:8080/"
        },
        "id": "_cMUAcL88wCA",
        "outputId": "62b53fe4-b253-4dcb-85bf-7637b81b19b7"
      },
      "source": [
        "!wget http://images.cocodataset.org/zips/val2017.zip >/dev/null"
      ],
      "execution_count": 131,
      "outputs": [
        {
          "output_type": "stream",
          "text": [
            "--2021-06-17 17:22:32--  http://images.cocodataset.org/zips/val2017.zip\n",
            "Resolving images.cocodataset.org (images.cocodataset.org)... 52.216.106.11\n",
            "Connecting to images.cocodataset.org (images.cocodataset.org)|52.216.106.11|:80... connected.\n",
            "HTTP request sent, awaiting response... 200 OK\n",
            "Length: 815585330 (778M) [application/zip]\n",
            "Saving to: ‘val2017.zip.1’\n",
            "\n",
            "val2017.zip.1       100%[===================>] 777.80M  46.0MB/s    in 18s     \n",
            "\n",
            "2021-06-17 17:22:50 (43.8 MB/s) - ‘val2017.zip.1’ saved [815585330/815585330]\n",
            "\n"
          ],
          "name": "stdout"
        }
      ]
    },
    {
      "cell_type": "code",
      "metadata": {
        "colab": {
          "base_uri": "https://localhost:8080/"
        },
        "id": "TaV-0cTW9lBj",
        "outputId": "37e3ed72-dd90-4638-916c-3fa99c881613"
      },
      "source": [
        "!unzip val2017.zip >/dev/null"
      ],
      "execution_count": 130,
      "outputs": [
        {
          "output_type": "stream",
          "text": [
            "replace val2017/000000212226.jpg? [y]es, [n]o, [A]ll, [N]one, [r]ename: A\n"
          ],
          "name": "stdout"
        }
      ]
    },
    {
      "cell_type": "markdown",
      "metadata": {
        "id": "w6BarHzf9w3R"
      },
      "source": [
        "### COCO Dataloader"
      ]
    },
    {
      "cell_type": "code",
      "metadata": {
        "id": "LrMHagbP8ajD"
      },
      "source": [
        "class CocoDataset(data.Dataset):\n",
        "    \"\"\"COCO Custom Dataset compatible with torch.utils.data.DataLoader.\"\"\"\n",
        "    def __init__(self, json, transform=None,root=None, ):\n",
        "        \"\"\"Set the path for images, captions and vocabulary wrapper.\n",
        "        \n",
        "        Args:\n",
        "            json: coco annotation file \n",
        "            root: image directory\n",
        "            transform: image transformer.\n",
        "        \"\"\"\n",
        "        self.root = root\n",
        "        self.coco = COCO(json)\n",
        "        self.ids = list(self.coco.anns.keys())\n",
        "        self.cats = self.coco.loadCats(self.coco.getCatIds())\n",
        "        self.transform = transform\n",
        "\n",
        "    def __getitem__(self,label=0):\n",
        "        \"\"\"Returns one data pair (image and label).\"\"\"\n",
        "        coco = self.coco\n",
        "\n",
        "        choice = random.randint(0,1)\n",
        "\n",
        "        if choice == 0:\n",
        "            catIds = coco.getCatIds(catNms=['person'])\n",
        "            label = 1\n",
        "        else:\n",
        "            catIds = coco.getCatIds(catNms=self.cats)\n",
        "            label = 0\n",
        "\n",
        "        imgIds = coco.getImgIds(catIds=catIds)\n",
        "\n",
        "        rand_index = random.randint(0,len(imgIds)-1)\n",
        "        image = coco.loadImgs(imgIds)[rand_index]\n",
        "\n",
        "\n",
        "        #Load image from the web\n",
        "        # image = io.imread(image['coco_url'])\n",
        "\n",
        "        #Load image from the disk\n",
        "        path = os.path.join(self.root,image['file_name'])\n",
        "        image = io.imread(path)\n",
        "\n",
        "        image = Image.fromarray(image)\n",
        "        label = torch.tensor([label])\n",
        "\n",
        "        if self.transform is not None:\n",
        "            image =  self.transform(image)\n",
        "\n",
        "        return image, label\n",
        "\n",
        "    def __len__(self):\n",
        "        return len(self.ids)\n",
        "\n",
        "\n",
        "def collate_fn(data):\n",
        "    \"\"\"Creates mini-batch tensors from the list of tuples (image, target).\n",
        "    Args:\n",
        "        data: list of tuple (image, target). \n",
        "            - image: torch tensor of shape (3, 256, 256).\n",
        "            - label: torch tensor \n",
        "\n",
        "    Returns:\n",
        "        images: torch tensor of shape (batch_size, 3, 256, 256).\n",
        "        labels : torch tensor of shape (batch_size, label).\n",
        "    \"\"\"\n",
        "\n",
        "    images, labels = zip(*data)\n",
        "\n",
        "    #Merge images (from tuple of 3D tensor to 4D tensor).\n",
        "    images = torch.stack(images, 0)\n",
        "\n",
        "    #Merge labels (from tuple of 3D tensor to 4D tensor).\n",
        "    labels = torch.stack(labels, 0)\n",
        "\n",
        "    return images, labels"
      ],
      "execution_count": 154,
      "outputs": []
    },
    {
      "cell_type": "code",
      "metadata": {
        "colab": {
          "base_uri": "https://localhost:8080/"
        },
        "id": "tomTmm678qFm",
        "outputId": "850b69b0-0e4c-472e-8470-fb76fa86c57e"
      },
      "source": [
        "coco = CocoDataset(annFile,transform=transforms.Compose([transforms.Resize((256,256)),transforms.Resize(256),transforms.ToTensor()]),root='val2017')"
      ],
      "execution_count": 155,
      "outputs": [
        {
          "output_type": "stream",
          "text": [
            "loading annotations into memory...\n",
            "Done (t=0.56s)\n",
            "creating index...\n",
            "index created!\n"
          ],
          "name": "stdout"
        }
      ]
    },
    {
      "cell_type": "code",
      "metadata": {
        "id": "WAEIFEi3-jyL"
      },
      "source": [
        "# dataloader = torch.utils.data.DataLoader(dataset=coco,batch_size=1,collate_fn=collate_fn,num_workers=1)\n",
        "dataloader = torch.utils.data.DataLoader(dataset=coco,batch_size=8,collate_fn=collate_fn)"
      ],
      "execution_count": 235,
      "outputs": []
    },
    {
      "cell_type": "code",
      "metadata": {
        "id": "yCJ0fiW3_qjC"
      },
      "source": [
        "x,y = next(iter(dataloader))"
      ],
      "execution_count": 236,
      "outputs": []
    },
    {
      "cell_type": "code",
      "metadata": {
        "colab": {
          "base_uri": "https://localhost:8080/"
        },
        "id": "2b9ziRoHASxB",
        "outputId": "32bef871-fa9b-4ac0-c882-023049a2a2ef"
      },
      "source": [
        "x.shape"
      ],
      "execution_count": 237,
      "outputs": [
        {
          "output_type": "execute_result",
          "data": {
            "text/plain": [
              "torch.Size([8, 3, 256, 256])"
            ]
          },
          "metadata": {
            "tags": []
          },
          "execution_count": 237
        }
      ]
    },
    {
      "cell_type": "code",
      "metadata": {
        "colab": {
          "base_uri": "https://localhost:8080/"
        },
        "id": "Z8qD4bIT4ppX",
        "outputId": "49da829f-80c5-4ed1-e380-299ed47e8b7e"
      },
      "source": [
        "y.shape"
      ],
      "execution_count": 238,
      "outputs": [
        {
          "output_type": "execute_result",
          "data": {
            "text/plain": [
              "torch.Size([8, 1])"
            ]
          },
          "metadata": {
            "tags": []
          },
          "execution_count": 238
        }
      ]
    },
    {
      "cell_type": "markdown",
      "metadata": {
        "id": "abc1brITCRx6"
      },
      "source": [
        "### Visualize images"
      ]
    },
    {
      "cell_type": "code",
      "metadata": {
        "colab": {
          "base_uri": "https://localhost:8080/",
          "height": 87
        },
        "id": "sEnPvsg58drc",
        "outputId": "7c3c43a1-e4d2-40a1-da6b-2a4a0d02ef62"
      },
      "source": [
        "plt.rcParams[\"savefig.bbox\"] = 'tight'\n",
        "def show(imgs,labels):\n",
        "    print([label.item() for label in labels])\n",
        "    if not isinstance(imgs, list):\n",
        "        imgs = [imgs]\n",
        "    fix, axs = plt.subplots(ncols=len(imgs), squeeze=False)\n",
        "    for i, img in enumerate(imgs):\n",
        "        img = img.detach()\n",
        "        img = F.to_pil_image(img)\n",
        "        axs[0, i].imshow(np.asarray(img))\n",
        "        axs[0, i].set(xticklabels=[], yticklabels=[], xticks=[], yticks=[])\n",
        "    \n",
        "\n",
        "show([image for image in x],y)"
      ],
      "execution_count": 239,
      "outputs": [
        {
          "output_type": "stream",
          "text": [
            "[1, 1, 1, 1, 0, 0, 1, 0]\n"
          ],
          "name": "stdout"
        },
        {
          "output_type": "display_data",
          "data": {
            "image/png": "[encoded data removed]",
            "text/plain": [
              "<Figure size 432x288 with 8 Axes>"
            ]
          },
          "metadata": {
            "tags": []
          }
        }
      ]
    },
    {
      "cell_type": "code",
      "metadata": {
        "id": "4jFOVbOOBsXq"
      },
      "source": [
        ""
      ],
      "execution_count": null,
      "outputs": []
    }
  ]
}