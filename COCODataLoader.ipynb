{
  "nbformat": 4,
  "nbformat_minor": 0,
  "metadata": {
    "colab": {
      "name": "COCODataLoader.ipynb",
      "provenance": [],
      "authorship_tag": "ABX9TyNgZYH6qqMI5ktIcN6CG7EQ",
      "include_colab_link": true
    },
    "kernelspec": {
      "name": "python3",
      "display_name": "Python 3"
    },
    "language_info": {
      "name": "python"
    },
    "accelerator": "GPU",
    "widgets": {
      "application/vnd.jupyter.widget-state+json": {
        "b0ac8050d75342f3859710d24d634091": {
          "model_module": "@jupyter-widgets/controls",
          "model_name": "HBoxModel",
          "state": {
            "_view_name": "HBoxView",
            "_dom_classes": [],
            "_model_name": "HBoxModel",
            "_view_module": "@jupyter-widgets/controls",
            "_model_module_version": "1.5.0",
            "_view_count": null,
            "_view_module_version": "1.5.0",
            "box_style": "",
            "layout": "IPY_MODEL_a5380b45631b4df4b9bb769a3c9ae7fd",
            "_model_module": "@jupyter-widgets/controls",
            "children": [
              "IPY_MODEL_a1656005a2764aa5a32e27e497fff9fe",
              "IPY_MODEL_f90326752ca04253b4b8228d44cffa54"
            ]
          }
        },
        "a5380b45631b4df4b9bb769a3c9ae7fd": {
          "model_module": "@jupyter-widgets/base",
          "model_name": "LayoutModel",
          "state": {
            "_view_name": "LayoutView",
            "grid_template_rows": null,
            "right": null,
            "justify_content": null,
            "_view_module": "@jupyter-widgets/base",
            "overflow": null,
            "_model_module_version": "1.2.0",
            "_view_count": null,
            "flex_flow": null,
            "width": null,
            "min_width": null,
            "border": null,
            "align_items": null,
            "bottom": null,
            "_model_module": "@jupyter-widgets/base",
            "top": null,
            "grid_column": null,
            "overflow_y": null,
            "overflow_x": null,
            "grid_auto_flow": null,
            "grid_area": null,
            "grid_template_columns": null,
            "flex": null,
            "_model_name": "LayoutModel",
            "justify_items": null,
            "grid_row": null,
            "max_height": null,
            "align_content": null,
            "visibility": null,
            "align_self": null,
            "height": null,
            "min_height": null,
            "padding": null,
            "grid_auto_rows": null,
            "grid_gap": null,
            "max_width": null,
            "order": null,
            "_view_module_version": "1.2.0",
            "grid_template_areas": null,
            "object_position": null,
            "object_fit": null,
            "grid_auto_columns": null,
            "margin": null,
            "display": null,
            "left": null
          }
        },
        "a1656005a2764aa5a32e27e497fff9fe": {
          "model_module": "@jupyter-widgets/controls",
          "model_name": "FloatProgressModel",
          "state": {
            "_view_name": "ProgressView",
            "style": "IPY_MODEL_be565cf1716a4c0c8c6c2c3a82f83473",
            "_dom_classes": [],
            "description": "100%",
            "_model_name": "FloatProgressModel",
            "bar_style": "success",
            "max": 46827520,
            "_view_module": "@jupyter-widgets/controls",
            "_model_module_version": "1.5.0",
            "value": 46827520,
            "_view_count": null,
            "_view_module_version": "1.5.0",
            "orientation": "horizontal",
            "min": 0,
            "description_tooltip": null,
            "_model_module": "@jupyter-widgets/controls",
            "layout": "IPY_MODEL_e3445c35c71b4dffbdb8ba3a6a17ff89"
          }
        },
        "f90326752ca04253b4b8228d44cffa54": {
          "model_module": "@jupyter-widgets/controls",
          "model_name": "HTMLModel",
          "state": {
            "_view_name": "HTMLView",
            "style": "IPY_MODEL_5cb98baf88e94830aead4fb3a8dccd9e",
            "_dom_classes": [],
            "description": "",
            "_model_name": "HTMLModel",
            "placeholder": "​",
            "_view_module": "@jupyter-widgets/controls",
            "_model_module_version": "1.5.0",
            "value": " 44.7M/44.7M [01:18&lt;00:00, 598kB/s]",
            "_view_count": null,
            "_view_module_version": "1.5.0",
            "description_tooltip": null,
            "_model_module": "@jupyter-widgets/controls",
            "layout": "IPY_MODEL_543fd7ccb55d43a094be6e74b7c13f46"
          }
        },
        "be565cf1716a4c0c8c6c2c3a82f83473": {
          "model_module": "@jupyter-widgets/controls",
          "model_name": "ProgressStyleModel",
          "state": {
            "_view_name": "StyleView",
            "_model_name": "ProgressStyleModel",
            "description_width": "initial",
            "_view_module": "@jupyter-widgets/base",
            "_model_module_version": "1.5.0",
            "_view_count": null,
            "_view_module_version": "1.2.0",
            "bar_color": null,
            "_model_module": "@jupyter-widgets/controls"
          }
        },
        "e3445c35c71b4dffbdb8ba3a6a17ff89": {
          "model_module": "@jupyter-widgets/base",
          "model_name": "LayoutModel",
          "state": {
            "_view_name": "LayoutView",
            "grid_template_rows": null,
            "right": null,
            "justify_content": null,
            "_view_module": "@jupyter-widgets/base",
            "overflow": null,
            "_model_module_version": "1.2.0",
            "_view_count": null,
            "flex_flow": null,
            "width": null,
            "min_width": null,
            "border": null,
            "align_items": null,
            "bottom": null,
            "_model_module": "@jupyter-widgets/base",
            "top": null,
            "grid_column": null,
            "overflow_y": null,
            "overflow_x": null,
            "grid_auto_flow": null,
            "grid_area": null,
            "grid_template_columns": null,
            "flex": null,
            "_model_name": "LayoutModel",
            "justify_items": null,
            "grid_row": null,
            "max_height": null,
            "align_content": null,
            "visibility": null,
            "align_self": null,
            "height": null,
            "min_height": null,
            "padding": null,
            "grid_auto_rows": null,
            "grid_gap": null,
            "max_width": null,
            "order": null,
            "_view_module_version": "1.2.0",
            "grid_template_areas": null,
            "object_position": null,
            "object_fit": null,
            "grid_auto_columns": null,
            "margin": null,
            "display": null,
            "left": null
          }
        },
        "5cb98baf88e94830aead4fb3a8dccd9e": {
          "model_module": "@jupyter-widgets/controls",
          "model_name": "DescriptionStyleModel",
          "state": {
            "_view_name": "StyleView",
            "_model_name": "DescriptionStyleModel",
            "description_width": "",
            "_view_module": "@jupyter-widgets/base",
            "_model_module_version": "1.5.0",
            "_view_count": null,
            "_view_module_version": "1.2.0",
            "_model_module": "@jupyter-widgets/controls"
          }
        },
        "543fd7ccb55d43a094be6e74b7c13f46": {
          "model_module": "@jupyter-widgets/base",
          "model_name": "LayoutModel",
          "state": {
            "_view_name": "LayoutView",
            "grid_template_rows": null,
            "right": null,
            "justify_content": null,
            "_view_module": "@jupyter-widgets/base",
            "overflow": null,
            "_model_module_version": "1.2.0",
            "_view_count": null,
            "flex_flow": null,
            "width": null,
            "min_width": null,
            "border": null,
            "align_items": null,
            "bottom": null,
            "_model_module": "@jupyter-widgets/base",
            "top": null,
            "grid_column": null,
            "overflow_y": null,
            "overflow_x": null,
            "grid_auto_flow": null,
            "grid_area": null,
            "grid_template_columns": null,
            "flex": null,
            "_model_name": "LayoutModel",
            "justify_items": null,
            "grid_row": null,
            "max_height": null,
            "align_content": null,
            "visibility": null,
            "align_self": null,
            "height": null,
            "min_height": null,
            "padding": null,
            "grid_auto_rows": null,
            "grid_gap": null,
            "max_width": null,
            "order": null,
            "_view_module_version": "1.2.0",
            "grid_template_areas": null,
            "object_position": null,
            "object_fit": null,
            "grid_auto_columns": null,
            "margin": null,
            "display": null,
            "left": null
          }
        }
      }
    }
  },
  "cells": [
    {
      "cell_type": "markdown",
      "metadata": {
        "id": "view-in-github",
        "colab_type": "text"
      },
      "source": [
        "<a href=\"https://colab.research.google.com/github/sramakrishnan247/jubilant-adventure/blob/main/COCODataLoader.ipynb\" target=\"_parent\"><img src=\"https://colab.research.google.com/assets/colab-badge.svg\" alt=\"Open In Colab\"/></a>"
      ]
    },
    {
      "cell_type": "code",
      "metadata": {
        "id": "KMdNijqC_Rhh"
      },
      "source": [
        "import torch\n",
        "import torchvision.transforms as transforms\n",
        "import torch.utils.data as data\n",
        "import os\n",
        "import pickle\n",
        "import numpy as np\n",
        "import nltk\n",
        "from PIL import Image\n",
        "from pycocotools.coco import COCO\n",
        "import random\n",
        "import skimage.io as io\n",
        "import matplotlib.pyplot as plt\n",
        "from torchvision.utils import make_grid\n",
        "import torchvision.transforms.functional as F\n",
        "import copy"
      ],
      "execution_count": 1,
      "outputs": []
    },
    {
      "cell_type": "markdown",
      "metadata": {
        "id": "1AiKatfJ9nYF"
      },
      "source": [
        "#### Download Annotations"
      ]
    },
    {
      "cell_type": "code",
      "metadata": {
        "colab": {
          "base_uri": "https://localhost:8080/"
        },
        "id": "jcOn4MNG8oDZ",
        "outputId": "32289239-03c9-470c-d181-1993e17d1b2f"
      },
      "source": [
        "!wget http://images.cocodataset.org/annotations/annotations_trainval2017.zip"
      ],
      "execution_count": 2,
      "outputs": [
        {
          "output_type": "stream",
          "text": [
            "--2021-06-17 21:27:46--  http://images.cocodataset.org/annotations/annotations_trainval2017.zip\n",
            "Resolving images.cocodataset.org (images.cocodataset.org)... 52.217.161.161\n",
            "Connecting to images.cocodataset.org (images.cocodataset.org)|52.217.161.161|:80... connected.\n",
            "HTTP request sent, awaiting response... 200 OK\n",
            "Length: 252907541 (241M) [application/zip]\n",
            "Saving to: ‘annotations_trainval2017.zip’\n",
            "\n",
            "annotations_trainva 100%[===================>] 241.19M  89.0MB/s    in 2.7s    \n",
            "\n",
            "2021-06-17 21:27:49 (89.0 MB/s) - ‘annotations_trainval2017.zip’ saved [252907541/252907541]\n",
            "\n"
          ],
          "name": "stdout"
        }
      ]
    },
    {
      "cell_type": "code",
      "metadata": {
        "id": "4EHKu9Pr8q24"
      },
      "source": [
        "!unzip annotations_trainval2017.zip >/dev/null"
      ],
      "execution_count": 3,
      "outputs": []
    },
    {
      "cell_type": "code",
      "metadata": {
        "id": "QZTohA3V8v6O"
      },
      "source": [
        "annFile='./annotations/instances_val2017.json'"
      ],
      "execution_count": 4,
      "outputs": []
    },
    {
      "cell_type": "markdown",
      "metadata": {
        "id": "C1gFVhDM9rVr"
      },
      "source": [
        "#### Download images"
      ]
    },
    {
      "cell_type": "code",
      "metadata": {
        "colab": {
          "base_uri": "https://localhost:8080/"
        },
        "id": "_cMUAcL88wCA",
        "outputId": "8dad159b-6e39-493b-9041-f556d7755874"
      },
      "source": [
        "!wget http://images.cocodataset.org/zips/val2017.zip >/dev/null"
      ],
      "execution_count": 5,
      "outputs": [
        {
          "output_type": "stream",
          "text": [
            "--2021-06-17 21:27:57--  http://images.cocodataset.org/zips/val2017.zip\n",
            "Resolving images.cocodataset.org (images.cocodataset.org)... 52.217.170.33\n",
            "Connecting to images.cocodataset.org (images.cocodataset.org)|52.217.170.33|:80... connected.\n",
            "HTTP request sent, awaiting response... 200 OK\n",
            "Length: 815585330 (778M) [application/zip]\n",
            "Saving to: ‘val2017.zip’\n",
            "\n",
            "val2017.zip         100%[===================>] 777.80M  54.6MB/s    in 14s     \n",
            "\n",
            "2021-06-17 21:28:11 (55.6 MB/s) - ‘val2017.zip’ saved [815585330/815585330]\n",
            "\n"
          ],
          "name": "stdout"
        }
      ]
    },
    {
      "cell_type": "code",
      "metadata": {
        "id": "TaV-0cTW9lBj"
      },
      "source": [
        "!unzip val2017.zip >/dev/null"
      ],
      "execution_count": 6,
      "outputs": []
    },
    {
      "cell_type": "markdown",
      "metadata": {
        "id": "w6BarHzf9w3R"
      },
      "source": [
        "### COCO Dataloader"
      ]
    },
    {
      "cell_type": "code",
      "metadata": {
        "id": "LrMHagbP8ajD"
      },
      "source": [
        "class CocoDataset(data.Dataset):\n",
        "    \"\"\"COCO Custom Dataset compatible with torch.utils.data.DataLoader.\"\"\"\n",
        "    def __init__(self, json, transform=None,root=None, ):\n",
        "        \"\"\"Set the path for images, captions and vocabulary wrapper.\n",
        "        \n",
        "        Args:\n",
        "            json: coco annotation file \n",
        "            root: image directory\n",
        "            transform: image transformer.\n",
        "        \"\"\"\n",
        "        self.root = root\n",
        "        self.coco = COCO(json)\n",
        "        self.ids = list(self.coco.anns.keys())\n",
        "        self.cats = self.coco.loadCats(self.coco.getCatIds())\n",
        "        self.transform = transform\n",
        "\n",
        "    def __getitem__(self,label=0):\n",
        "        \"\"\"Returns one data pair (image and label).\"\"\"\n",
        "        coco = self.coco\n",
        "\n",
        "        choice = random.randint(0,1)\n",
        "\n",
        "        if choice == 0:\n",
        "            catIds = coco.getCatIds(catNms=['person'])\n",
        "            label = 1.0\n",
        "        else:\n",
        "            catIds = coco.getCatIds(catNms=self.cats)\n",
        "            label = 0.0\n",
        "\n",
        "        imgIds = coco.getImgIds(catIds=catIds)\n",
        "\n",
        "        invalid_image = True\n",
        "        while invalid_image:\n",
        "            rand_index = random.randint(0,len(imgIds)-1)\n",
        "            image = coco.loadImgs(imgIds)[rand_index]\n",
        "\n",
        "            #Load image from the disk\n",
        "            path = os.path.join(self.root,image['file_name'])\n",
        "\n",
        "            image = io.imread(path)\n",
        "\n",
        "            #Ignore grayscale images\n",
        "            if len(image.shape) == 3:\n",
        "                invalid_image = False\n",
        "\n",
        "        \n",
        "        image = Image.fromarray(image)\n",
        "        label = torch.tensor([label])\n",
        "\n",
        "\n",
        "        if self.transform is not None:\n",
        "            image =  self.transform(image)\n",
        "\n",
        "        return image, label\n",
        "\n",
        "    def __len__(self):\n",
        "        return len(self.ids)\n",
        "\n",
        "\n",
        "def collate_fn(data):\n",
        "    \"\"\"Creates mini-batch tensors from the list of tuples (image, target).\n",
        "    Args:\n",
        "        data: list of tuple (image, target). \n",
        "            - image: torch tensor of shape (3, 256, 256).\n",
        "            - label: torch tensor \n",
        "\n",
        "    Returns:\n",
        "        images: torch tensor of shape (batch_size, 3, 256, 256).\n",
        "        labels : torch tensor of shape (batch_size, label).\n",
        "    \"\"\"\n",
        "\n",
        "    images, labels = zip(*data)\n",
        "\n",
        "    #Merge images (from tuple of 3D tensor to 4D tensor).\n",
        "    images = torch.stack(images, 0)\n",
        "\n",
        "    #Merge labels (from tuple of 3D tensor to 4D tensor).\n",
        "    labels = torch.stack(labels, 0)\n",
        "\n",
        "    return images, labels\n",
        "\n",
        "def coco_transforms():\n",
        "    return transforms.Compose([transforms.Resize((256,256)),\n",
        "                                transforms.ToTensor(),\n",
        "                                transforms.Normalize([0.485, 0.456, 0.406], [0.229, 0.224, 0.225])])"
      ],
      "execution_count": 7,
      "outputs": []
    },
    {
      "cell_type": "code",
      "metadata": {
        "colab": {
          "base_uri": "https://localhost:8080/"
        },
        "id": "tomTmm678qFm",
        "outputId": "2ccb072d-86a2-46af-8f48-886334025d03"
      },
      "source": [
        "coco = CocoDataset(annFile,transform=coco_transforms(),root='val2017')"
      ],
      "execution_count": 8,
      "outputs": [
        {
          "output_type": "stream",
          "text": [
            "loading annotations into memory...\n",
            "Done (t=0.76s)\n",
            "creating index...\n",
            "index created!\n"
          ],
          "name": "stdout"
        }
      ]
    },
    {
      "cell_type": "code",
      "metadata": {
        "id": "WAEIFEi3-jyL"
      },
      "source": [
        "# dataloader = torch.utils.data.DataLoader(dataset=coco,batch_size=1,collate_fn=collate_fn,num_workers=1)\n",
        "dataloader = torch.utils.data.DataLoader(dataset=coco,batch_size=8)"
      ],
      "execution_count": 9,
      "outputs": []
    },
    {
      "cell_type": "code",
      "metadata": {
        "id": "yCJ0fiW3_qjC"
      },
      "source": [
        "x,y = next(iter(dataloader))"
      ],
      "execution_count": 10,
      "outputs": []
    },
    {
      "cell_type": "code",
      "metadata": {
        "colab": {
          "base_uri": "https://localhost:8080/"
        },
        "id": "2b9ziRoHASxB",
        "outputId": "07fb54c9-d88f-4e58-a570-dd6c568d9ec8"
      },
      "source": [
        "x.shape"
      ],
      "execution_count": 11,
      "outputs": [
        {
          "output_type": "execute_result",
          "data": {
            "text/plain": [
              "torch.Size([8, 3, 256, 256])"
            ]
          },
          "metadata": {
            "tags": []
          },
          "execution_count": 11
        }
      ]
    },
    {
      "cell_type": "code",
      "metadata": {
        "colab": {
          "base_uri": "https://localhost:8080/"
        },
        "id": "Z8qD4bIT4ppX",
        "outputId": "c0d9e0cb-fba0-4fb9-ed68-b46ea0221248"
      },
      "source": [
        "y.shape"
      ],
      "execution_count": 12,
      "outputs": [
        {
          "output_type": "execute_result",
          "data": {
            "text/plain": [
              "torch.Size([8, 1])"
            ]
          },
          "metadata": {
            "tags": []
          },
          "execution_count": 12
        }
      ]
    },
    {
      "cell_type": "code",
      "metadata": {
        "colab": {
          "base_uri": "https://localhost:8080/"
        },
        "id": "V71JZ_ZiV-7P",
        "outputId": "06ad0eba-4979-4c24-b389-dd86ca701066"
      },
      "source": [
        "# for i in range(len(dataloader)//8):\n",
        "#     xx, yy = next(iter(dataloader))\n",
        "#     print(i,xx.shape,yy.shape)"
      ],
      "execution_count": 13,
      "outputs": [
        {
          "output_type": "stream",
          "text": [
            "0 torch.Size([8, 3, 256, 256]) torch.Size([8, 1])\n",
            "1 torch.Size([8, 3, 256, 256]) torch.Size([8, 1])\n",
            "2 torch.Size([8, 3, 256, 256]) torch.Size([8, 1])\n",
            "3 torch.Size([8, 3, 256, 256]) torch.Size([8, 1])\n",
            "4 torch.Size([8, 3, 256, 256]) torch.Size([8, 1])\n",
            "5 torch.Size([8, 3, 256, 256]) torch.Size([8, 1])\n",
            "6 torch.Size([8, 3, 256, 256]) torch.Size([8, 1])\n",
            "7 torch.Size([8, 3, 256, 256]) torch.Size([8, 1])\n",
            "8 torch.Size([8, 3, 256, 256]) torch.Size([8, 1])\n",
            "9 torch.Size([8, 3, 256, 256]) torch.Size([8, 1])\n",
            "10 torch.Size([8, 3, 256, 256]) torch.Size([8, 1])\n",
            "11 torch.Size([8, 3, 256, 256]) torch.Size([8, 1])\n",
            "12 torch.Size([8, 3, 256, 256]) torch.Size([8, 1])\n",
            "13 torch.Size([8, 3, 256, 256]) torch.Size([8, 1])\n",
            "14 torch.Size([8, 3, 256, 256]) torch.Size([8, 1])\n",
            "15 torch.Size([8, 3, 256, 256]) torch.Size([8, 1])\n",
            "16 torch.Size([8, 3, 256, 256]) torch.Size([8, 1])\n",
            "17 torch.Size([8, 3, 256, 256]) torch.Size([8, 1])\n",
            "18 torch.Size([8, 3, 256, 256]) torch.Size([8, 1])\n",
            "19 torch.Size([8, 3, 256, 256]) torch.Size([8, 1])\n",
            "20 torch.Size([8, 3, 256, 256]) torch.Size([8, 1])\n",
            "21 torch.Size([8, 3, 256, 256]) torch.Size([8, 1])\n",
            "22 torch.Size([8, 3, 256, 256]) torch.Size([8, 1])\n",
            "23 torch.Size([8, 3, 256, 256]) torch.Size([8, 1])\n",
            "24 torch.Size([8, 3, 256, 256]) torch.Size([8, 1])\n",
            "25 torch.Size([8, 3, 256, 256]) torch.Size([8, 1])\n",
            "26 torch.Size([8, 3, 256, 256]) torch.Size([8, 1])\n",
            "27 torch.Size([8, 3, 256, 256]) torch.Size([8, 1])\n",
            "28 torch.Size([8, 3, 256, 256]) torch.Size([8, 1])\n",
            "29 torch.Size([8, 3, 256, 256]) torch.Size([8, 1])\n",
            "30 torch.Size([8, 3, 256, 256]) torch.Size([8, 1])\n",
            "31 torch.Size([8, 3, 256, 256]) torch.Size([8, 1])\n",
            "32 torch.Size([8, 3, 256, 256]) torch.Size([8, 1])\n",
            "33 torch.Size([8, 3, 256, 256]) torch.Size([8, 1])\n",
            "34 torch.Size([8, 3, 256, 256]) torch.Size([8, 1])\n",
            "35 torch.Size([8, 3, 256, 256]) torch.Size([8, 1])\n",
            "36 torch.Size([8, 3, 256, 256]) torch.Size([8, 1])\n",
            "37 torch.Size([8, 3, 256, 256]) torch.Size([8, 1])\n",
            "38 torch.Size([8, 3, 256, 256]) torch.Size([8, 1])\n",
            "39 torch.Size([8, 3, 256, 256]) torch.Size([8, 1])\n",
            "40 torch.Size([8, 3, 256, 256]) torch.Size([8, 1])\n",
            "41 torch.Size([8, 3, 256, 256]) torch.Size([8, 1])\n",
            "42 torch.Size([8, 3, 256, 256]) torch.Size([8, 1])\n",
            "43 torch.Size([8, 3, 256, 256]) torch.Size([8, 1])\n",
            "44 torch.Size([8, 3, 256, 256]) torch.Size([8, 1])\n",
            "45 torch.Size([8, 3, 256, 256]) torch.Size([8, 1])\n",
            "46 torch.Size([8, 3, 256, 256]) torch.Size([8, 1])\n",
            "47 torch.Size([8, 3, 256, 256]) torch.Size([8, 1])\n",
            "48 torch.Size([8, 3, 256, 256]) torch.Size([8, 1])\n",
            "49 torch.Size([8, 3, 256, 256]) torch.Size([8, 1])\n",
            "50 torch.Size([8, 3, 256, 256]) torch.Size([8, 1])\n",
            "51 torch.Size([8, 3, 256, 256]) torch.Size([8, 1])\n",
            "52 torch.Size([8, 3, 256, 256]) torch.Size([8, 1])\n",
            "53 torch.Size([8, 3, 256, 256]) torch.Size([8, 1])\n",
            "54 torch.Size([8, 3, 256, 256]) torch.Size([8, 1])\n",
            "55 torch.Size([8, 3, 256, 256]) torch.Size([8, 1])\n",
            "56 torch.Size([8, 3, 256, 256]) torch.Size([8, 1])\n",
            "57 torch.Size([8, 3, 256, 256]) torch.Size([8, 1])\n",
            "58 torch.Size([8, 3, 256, 256]) torch.Size([8, 1])\n",
            "59 torch.Size([8, 3, 256, 256]) torch.Size([8, 1])\n",
            "60 torch.Size([8, 3, 256, 256]) torch.Size([8, 1])\n",
            "61 torch.Size([8, 3, 256, 256]) torch.Size([8, 1])\n",
            "62 torch.Size([8, 3, 256, 256]) torch.Size([8, 1])\n",
            "63 torch.Size([8, 3, 256, 256]) torch.Size([8, 1])\n",
            "64 torch.Size([8, 3, 256, 256]) torch.Size([8, 1])\n",
            "65 torch.Size([8, 3, 256, 256]) torch.Size([8, 1])\n",
            "66 torch.Size([8, 3, 256, 256]) torch.Size([8, 1])\n",
            "67 torch.Size([8, 3, 256, 256]) torch.Size([8, 1])\n",
            "68 torch.Size([8, 3, 256, 256]) torch.Size([8, 1])\n",
            "69 torch.Size([8, 3, 256, 256]) torch.Size([8, 1])\n",
            "70 torch.Size([8, 3, 256, 256]) torch.Size([8, 1])\n",
            "71 torch.Size([8, 3, 256, 256]) torch.Size([8, 1])\n",
            "72 torch.Size([8, 3, 256, 256]) torch.Size([8, 1])\n",
            "73 torch.Size([8, 3, 256, 256]) torch.Size([8, 1])\n",
            "74 torch.Size([8, 3, 256, 256]) torch.Size([8, 1])\n",
            "75 torch.Size([8, 3, 256, 256]) torch.Size([8, 1])\n",
            "76 torch.Size([8, 3, 256, 256]) torch.Size([8, 1])\n",
            "77 torch.Size([8, 3, 256, 256]) torch.Size([8, 1])\n",
            "78 torch.Size([8, 3, 256, 256]) torch.Size([8, 1])\n",
            "79 torch.Size([8, 3, 256, 256]) torch.Size([8, 1])\n",
            "80 torch.Size([8, 3, 256, 256]) torch.Size([8, 1])\n",
            "81 torch.Size([8, 3, 256, 256]) torch.Size([8, 1])\n",
            "82 torch.Size([8, 3, 256, 256]) torch.Size([8, 1])\n",
            "83 torch.Size([8, 3, 256, 256]) torch.Size([8, 1])\n",
            "84 torch.Size([8, 3, 256, 256]) torch.Size([8, 1])\n",
            "85 torch.Size([8, 3, 256, 256]) torch.Size([8, 1])\n",
            "86 torch.Size([8, 3, 256, 256]) torch.Size([8, 1])\n",
            "87 torch.Size([8, 3, 256, 256]) torch.Size([8, 1])\n",
            "88 torch.Size([8, 3, 256, 256]) torch.Size([8, 1])\n",
            "89 torch.Size([8, 3, 256, 256]) torch.Size([8, 1])\n",
            "90 torch.Size([8, 3, 256, 256]) torch.Size([8, 1])\n",
            "91 torch.Size([8, 3, 256, 256]) torch.Size([8, 1])\n",
            "92 torch.Size([8, 3, 256, 256]) torch.Size([8, 1])\n",
            "93 torch.Size([8, 3, 256, 256]) torch.Size([8, 1])\n",
            "94 torch.Size([8, 3, 256, 256]) torch.Size([8, 1])\n",
            "95 torch.Size([8, 3, 256, 256]) torch.Size([8, 1])\n",
            "96 torch.Size([8, 3, 256, 256]) torch.Size([8, 1])\n",
            "97 torch.Size([8, 3, 256, 256]) torch.Size([8, 1])\n",
            "98 torch.Size([8, 3, 256, 256]) torch.Size([8, 1])\n",
            "99 torch.Size([8, 3, 256, 256]) torch.Size([8, 1])\n",
            "100 torch.Size([8, 3, 256, 256]) torch.Size([8, 1])\n",
            "101 torch.Size([8, 3, 256, 256]) torch.Size([8, 1])\n",
            "102 torch.Size([8, 3, 256, 256]) torch.Size([8, 1])\n",
            "103 torch.Size([8, 3, 256, 256]) torch.Size([8, 1])\n",
            "104 torch.Size([8, 3, 256, 256]) torch.Size([8, 1])\n",
            "105 torch.Size([8, 3, 256, 256]) torch.Size([8, 1])\n",
            "106 torch.Size([8, 3, 256, 256]) torch.Size([8, 1])\n",
            "107 torch.Size([8, 3, 256, 256]) torch.Size([8, 1])\n",
            "108 torch.Size([8, 3, 256, 256]) torch.Size([8, 1])\n",
            "109 torch.Size([8, 3, 256, 256]) torch.Size([8, 1])\n",
            "110 torch.Size([8, 3, 256, 256]) torch.Size([8, 1])\n",
            "111 torch.Size([8, 3, 256, 256]) torch.Size([8, 1])\n",
            "112 torch.Size([8, 3, 256, 256]) torch.Size([8, 1])\n",
            "113 torch.Size([8, 3, 256, 256]) torch.Size([8, 1])\n",
            "114 torch.Size([8, 3, 256, 256]) torch.Size([8, 1])\n",
            "115 torch.Size([8, 3, 256, 256]) torch.Size([8, 1])\n",
            "116 torch.Size([8, 3, 256, 256]) torch.Size([8, 1])\n",
            "117 torch.Size([8, 3, 256, 256]) torch.Size([8, 1])\n",
            "118 torch.Size([8, 3, 256, 256]) torch.Size([8, 1])\n",
            "119 torch.Size([8, 3, 256, 256]) torch.Size([8, 1])\n",
            "120 torch.Size([8, 3, 256, 256]) torch.Size([8, 1])\n",
            "121 torch.Size([8, 3, 256, 256]) torch.Size([8, 1])\n",
            "122 torch.Size([8, 3, 256, 256]) torch.Size([8, 1])\n",
            "123 torch.Size([8, 3, 256, 256]) torch.Size([8, 1])\n",
            "124 torch.Size([8, 3, 256, 256]) torch.Size([8, 1])\n",
            "125 torch.Size([8, 3, 256, 256]) torch.Size([8, 1])\n",
            "126 torch.Size([8, 3, 256, 256]) torch.Size([8, 1])\n",
            "127 torch.Size([8, 3, 256, 256]) torch.Size([8, 1])\n",
            "128 torch.Size([8, 3, 256, 256]) torch.Size([8, 1])\n",
            "129 torch.Size([8, 3, 256, 256]) torch.Size([8, 1])\n",
            "130 torch.Size([8, 3, 256, 256]) torch.Size([8, 1])\n",
            "131 torch.Size([8, 3, 256, 256]) torch.Size([8, 1])\n",
            "132 torch.Size([8, 3, 256, 256]) torch.Size([8, 1])\n",
            "133 torch.Size([8, 3, 256, 256]) torch.Size([8, 1])\n",
            "134 torch.Size([8, 3, 256, 256]) torch.Size([8, 1])\n",
            "135 torch.Size([8, 3, 256, 256]) torch.Size([8, 1])\n",
            "136 torch.Size([8, 3, 256, 256]) torch.Size([8, 1])\n",
            "137 torch.Size([8, 3, 256, 256]) torch.Size([8, 1])\n",
            "138 torch.Size([8, 3, 256, 256]) torch.Size([8, 1])\n",
            "139 torch.Size([8, 3, 256, 256]) torch.Size([8, 1])\n",
            "140 torch.Size([8, 3, 256, 256]) torch.Size([8, 1])\n",
            "141 torch.Size([8, 3, 256, 256]) torch.Size([8, 1])\n",
            "142 torch.Size([8, 3, 256, 256]) torch.Size([8, 1])\n",
            "143 torch.Size([8, 3, 256, 256]) torch.Size([8, 1])\n",
            "144 torch.Size([8, 3, 256, 256]) torch.Size([8, 1])\n",
            "145 torch.Size([8, 3, 256, 256]) torch.Size([8, 1])\n",
            "146 torch.Size([8, 3, 256, 256]) torch.Size([8, 1])\n",
            "147 torch.Size([8, 3, 256, 256]) torch.Size([8, 1])\n",
            "148 torch.Size([8, 3, 256, 256]) torch.Size([8, 1])\n",
            "149 torch.Size([8, 3, 256, 256]) torch.Size([8, 1])\n",
            "150 torch.Size([8, 3, 256, 256]) torch.Size([8, 1])\n",
            "151 torch.Size([8, 3, 256, 256]) torch.Size([8, 1])\n",
            "152 torch.Size([8, 3, 256, 256]) torch.Size([8, 1])\n",
            "153 torch.Size([8, 3, 256, 256]) torch.Size([8, 1])\n",
            "154 torch.Size([8, 3, 256, 256]) torch.Size([8, 1])\n",
            "155 torch.Size([8, 3, 256, 256]) torch.Size([8, 1])\n",
            "156 torch.Size([8, 3, 256, 256]) torch.Size([8, 1])\n",
            "157 torch.Size([8, 3, 256, 256]) torch.Size([8, 1])\n",
            "158 torch.Size([8, 3, 256, 256]) torch.Size([8, 1])\n",
            "159 torch.Size([8, 3, 256, 256]) torch.Size([8, 1])\n",
            "160 torch.Size([8, 3, 256, 256]) torch.Size([8, 1])\n",
            "161 torch.Size([8, 3, 256, 256]) torch.Size([8, 1])\n",
            "162 torch.Size([8, 3, 256, 256]) torch.Size([8, 1])\n",
            "163 torch.Size([8, 3, 256, 256]) torch.Size([8, 1])\n",
            "164 torch.Size([8, 3, 256, 256]) torch.Size([8, 1])\n",
            "165 torch.Size([8, 3, 256, 256]) torch.Size([8, 1])\n",
            "166 torch.Size([8, 3, 256, 256]) torch.Size([8, 1])\n",
            "167 torch.Size([8, 3, 256, 256]) torch.Size([8, 1])\n",
            "168 torch.Size([8, 3, 256, 256]) torch.Size([8, 1])\n",
            "169 torch.Size([8, 3, 256, 256]) torch.Size([8, 1])\n",
            "170 torch.Size([8, 3, 256, 256]) torch.Size([8, 1])\n",
            "171 torch.Size([8, 3, 256, 256]) torch.Size([8, 1])\n",
            "172 torch.Size([8, 3, 256, 256]) torch.Size([8, 1])\n",
            "173 torch.Size([8, 3, 256, 256]) torch.Size([8, 1])\n",
            "174 torch.Size([8, 3, 256, 256]) torch.Size([8, 1])\n",
            "175 torch.Size([8, 3, 256, 256]) torch.Size([8, 1])\n",
            "176 torch.Size([8, 3, 256, 256]) torch.Size([8, 1])\n",
            "177 torch.Size([8, 3, 256, 256]) torch.Size([8, 1])\n",
            "178 torch.Size([8, 3, 256, 256]) torch.Size([8, 1])\n",
            "179 torch.Size([8, 3, 256, 256]) torch.Size([8, 1])\n",
            "180 torch.Size([8, 3, 256, 256]) torch.Size([8, 1])\n",
            "181 torch.Size([8, 3, 256, 256]) torch.Size([8, 1])\n",
            "182 torch.Size([8, 3, 256, 256]) torch.Size([8, 1])\n",
            "183 torch.Size([8, 3, 256, 256]) torch.Size([8, 1])\n",
            "184 torch.Size([8, 3, 256, 256]) torch.Size([8, 1])\n",
            "185 torch.Size([8, 3, 256, 256]) torch.Size([8, 1])\n",
            "186 torch.Size([8, 3, 256, 256]) torch.Size([8, 1])\n",
            "187 torch.Size([8, 3, 256, 256]) torch.Size([8, 1])\n",
            "188 torch.Size([8, 3, 256, 256]) torch.Size([8, 1])\n",
            "189 torch.Size([8, 3, 256, 256]) torch.Size([8, 1])\n",
            "190 torch.Size([8, 3, 256, 256]) torch.Size([8, 1])\n",
            "191 torch.Size([8, 3, 256, 256]) torch.Size([8, 1])\n",
            "192 torch.Size([8, 3, 256, 256]) torch.Size([8, 1])\n",
            "193 torch.Size([8, 3, 256, 256]) torch.Size([8, 1])\n",
            "194 torch.Size([8, 3, 256, 256]) torch.Size([8, 1])\n",
            "195 torch.Size([8, 3, 256, 256]) torch.Size([8, 1])\n",
            "196 torch.Size([8, 3, 256, 256]) torch.Size([8, 1])\n",
            "197 torch.Size([8, 3, 256, 256]) torch.Size([8, 1])\n",
            "198 torch.Size([8, 3, 256, 256]) torch.Size([8, 1])\n",
            "199 torch.Size([8, 3, 256, 256]) torch.Size([8, 1])\n",
            "200 torch.Size([8, 3, 256, 256]) torch.Size([8, 1])\n",
            "201 torch.Size([8, 3, 256, 256]) torch.Size([8, 1])\n",
            "202 torch.Size([8, 3, 256, 256]) torch.Size([8, 1])\n",
            "203 torch.Size([8, 3, 256, 256]) torch.Size([8, 1])\n",
            "204 torch.Size([8, 3, 256, 256]) torch.Size([8, 1])\n",
            "205 torch.Size([8, 3, 256, 256]) torch.Size([8, 1])\n",
            "206 torch.Size([8, 3, 256, 256]) torch.Size([8, 1])\n",
            "207 torch.Size([8, 3, 256, 256]) torch.Size([8, 1])\n",
            "208 torch.Size([8, 3, 256, 256]) torch.Size([8, 1])\n",
            "209 torch.Size([8, 3, 256, 256]) torch.Size([8, 1])\n",
            "210 torch.Size([8, 3, 256, 256]) torch.Size([8, 1])\n",
            "211 torch.Size([8, 3, 256, 256]) torch.Size([8, 1])\n",
            "212 torch.Size([8, 3, 256, 256]) torch.Size([8, 1])\n",
            "213 torch.Size([8, 3, 256, 256]) torch.Size([8, 1])\n",
            "214 torch.Size([8, 3, 256, 256]) torch.Size([8, 1])\n",
            "215 torch.Size([8, 3, 256, 256]) torch.Size([8, 1])\n",
            "216 torch.Size([8, 3, 256, 256]) torch.Size([8, 1])\n",
            "217 torch.Size([8, 3, 256, 256]) torch.Size([8, 1])\n",
            "218 torch.Size([8, 3, 256, 256]) torch.Size([8, 1])\n",
            "219 torch.Size([8, 3, 256, 256]) torch.Size([8, 1])\n",
            "220 torch.Size([8, 3, 256, 256]) torch.Size([8, 1])\n",
            "221 torch.Size([8, 3, 256, 256]) torch.Size([8, 1])\n",
            "222 torch.Size([8, 3, 256, 256]) torch.Size([8, 1])\n",
            "223 torch.Size([8, 3, 256, 256]) torch.Size([8, 1])\n",
            "224 torch.Size([8, 3, 256, 256]) torch.Size([8, 1])\n",
            "225 torch.Size([8, 3, 256, 256]) torch.Size([8, 1])\n",
            "226 torch.Size([8, 3, 256, 256]) torch.Size([8, 1])\n",
            "227 torch.Size([8, 3, 256, 256]) torch.Size([8, 1])\n",
            "228 torch.Size([8, 3, 256, 256]) torch.Size([8, 1])\n",
            "229 torch.Size([8, 3, 256, 256]) torch.Size([8, 1])\n",
            "230 torch.Size([8, 3, 256, 256]) torch.Size([8, 1])\n",
            "231 torch.Size([8, 3, 256, 256]) torch.Size([8, 1])\n",
            "232 torch.Size([8, 3, 256, 256]) torch.Size([8, 1])\n",
            "233 torch.Size([8, 3, 256, 256]) torch.Size([8, 1])\n",
            "234 torch.Size([8, 3, 256, 256]) torch.Size([8, 1])\n",
            "235 torch.Size([8, 3, 256, 256]) torch.Size([8, 1])\n",
            "236 torch.Size([8, 3, 256, 256]) torch.Size([8, 1])\n",
            "237 torch.Size([8, 3, 256, 256]) torch.Size([8, 1])\n",
            "238 torch.Size([8, 3, 256, 256]) torch.Size([8, 1])\n",
            "239 torch.Size([8, 3, 256, 256]) torch.Size([8, 1])\n",
            "240 torch.Size([8, 3, 256, 256]) torch.Size([8, 1])\n",
            "241 torch.Size([8, 3, 256, 256]) torch.Size([8, 1])\n",
            "242 torch.Size([8, 3, 256, 256]) torch.Size([8, 1])\n",
            "243 torch.Size([8, 3, 256, 256]) torch.Size([8, 1])\n",
            "244 torch.Size([8, 3, 256, 256]) torch.Size([8, 1])\n",
            "245 torch.Size([8, 3, 256, 256]) torch.Size([8, 1])\n",
            "246 torch.Size([8, 3, 256, 256]) torch.Size([8, 1])\n",
            "247 torch.Size([8, 3, 256, 256]) torch.Size([8, 1])\n",
            "248 torch.Size([8, 3, 256, 256]) torch.Size([8, 1])\n",
            "249 torch.Size([8, 3, 256, 256]) torch.Size([8, 1])\n",
            "250 torch.Size([8, 3, 256, 256]) torch.Size([8, 1])\n",
            "251 torch.Size([8, 3, 256, 256]) torch.Size([8, 1])\n",
            "252 torch.Size([8, 3, 256, 256]) torch.Size([8, 1])\n",
            "253 torch.Size([8, 3, 256, 256]) torch.Size([8, 1])\n",
            "254 torch.Size([8, 3, 256, 256]) torch.Size([8, 1])\n",
            "255 torch.Size([8, 3, 256, 256]) torch.Size([8, 1])\n",
            "256 torch.Size([8, 3, 256, 256]) torch.Size([8, 1])\n",
            "257 torch.Size([8, 3, 256, 256]) torch.Size([8, 1])\n",
            "258 torch.Size([8, 3, 256, 256]) torch.Size([8, 1])\n",
            "259 torch.Size([8, 3, 256, 256]) torch.Size([8, 1])\n",
            "260 torch.Size([8, 3, 256, 256]) torch.Size([8, 1])\n",
            "261 torch.Size([8, 3, 256, 256]) torch.Size([8, 1])\n",
            "262 torch.Size([8, 3, 256, 256]) torch.Size([8, 1])\n",
            "263 torch.Size([8, 3, 256, 256]) torch.Size([8, 1])\n",
            "264 torch.Size([8, 3, 256, 256]) torch.Size([8, 1])\n",
            "265 torch.Size([8, 3, 256, 256]) torch.Size([8, 1])\n",
            "266 torch.Size([8, 3, 256, 256]) torch.Size([8, 1])\n",
            "267 torch.Size([8, 3, 256, 256]) torch.Size([8, 1])\n",
            "268 torch.Size([8, 3, 256, 256]) torch.Size([8, 1])\n",
            "269 torch.Size([8, 3, 256, 256]) torch.Size([8, 1])\n",
            "270 torch.Size([8, 3, 256, 256]) torch.Size([8, 1])\n",
            "271 torch.Size([8, 3, 256, 256]) torch.Size([8, 1])\n",
            "272 torch.Size([8, 3, 256, 256]) torch.Size([8, 1])\n",
            "273 torch.Size([8, 3, 256, 256]) torch.Size([8, 1])\n",
            "274 torch.Size([8, 3, 256, 256]) torch.Size([8, 1])\n",
            "275 torch.Size([8, 3, 256, 256]) torch.Size([8, 1])\n",
            "276 torch.Size([8, 3, 256, 256]) torch.Size([8, 1])\n",
            "277 torch.Size([8, 3, 256, 256]) torch.Size([8, 1])\n",
            "278 torch.Size([8, 3, 256, 256]) torch.Size([8, 1])\n",
            "279 torch.Size([8, 3, 256, 256]) torch.Size([8, 1])\n",
            "280 torch.Size([8, 3, 256, 256]) torch.Size([8, 1])\n",
            "281 torch.Size([8, 3, 256, 256]) torch.Size([8, 1])\n",
            "282 torch.Size([8, 3, 256, 256]) torch.Size([8, 1])\n",
            "283 torch.Size([8, 3, 256, 256]) torch.Size([8, 1])\n",
            "284 torch.Size([8, 3, 256, 256]) torch.Size([8, 1])\n",
            "285 torch.Size([8, 3, 256, 256]) torch.Size([8, 1])\n",
            "286 torch.Size([8, 3, 256, 256]) torch.Size([8, 1])\n",
            "287 torch.Size([8, 3, 256, 256]) torch.Size([8, 1])\n",
            "288 torch.Size([8, 3, 256, 256]) torch.Size([8, 1])\n",
            "289 torch.Size([8, 3, 256, 256]) torch.Size([8, 1])\n",
            "290 torch.Size([8, 3, 256, 256]) torch.Size([8, 1])\n",
            "291 torch.Size([8, 3, 256, 256]) torch.Size([8, 1])\n",
            "292 torch.Size([8, 3, 256, 256]) torch.Size([8, 1])\n",
            "293 torch.Size([8, 3, 256, 256]) torch.Size([8, 1])\n",
            "294 torch.Size([8, 3, 256, 256]) torch.Size([8, 1])\n",
            "295 torch.Size([8, 3, 256, 256]) torch.Size([8, 1])\n",
            "296 torch.Size([8, 3, 256, 256]) torch.Size([8, 1])\n",
            "297 torch.Size([8, 3, 256, 256]) torch.Size([8, 1])\n",
            "298 torch.Size([8, 3, 256, 256]) torch.Size([8, 1])\n",
            "299 torch.Size([8, 3, 256, 256]) torch.Size([8, 1])\n",
            "300 torch.Size([8, 3, 256, 256]) torch.Size([8, 1])\n",
            "301 torch.Size([8, 3, 256, 256]) torch.Size([8, 1])\n",
            "302 torch.Size([8, 3, 256, 256]) torch.Size([8, 1])\n",
            "303 torch.Size([8, 3, 256, 256]) torch.Size([8, 1])\n",
            "304 torch.Size([8, 3, 256, 256]) torch.Size([8, 1])\n",
            "305 torch.Size([8, 3, 256, 256]) torch.Size([8, 1])\n",
            "306 torch.Size([8, 3, 256, 256]) torch.Size([8, 1])\n",
            "307 torch.Size([8, 3, 256, 256]) torch.Size([8, 1])\n",
            "308 torch.Size([8, 3, 256, 256]) torch.Size([8, 1])\n",
            "309 torch.Size([8, 3, 256, 256]) torch.Size([8, 1])\n",
            "310 torch.Size([8, 3, 256, 256]) torch.Size([8, 1])\n",
            "311 torch.Size([8, 3, 256, 256]) torch.Size([8, 1])\n",
            "312 torch.Size([8, 3, 256, 256]) torch.Size([8, 1])\n",
            "313 torch.Size([8, 3, 256, 256]) torch.Size([8, 1])\n",
            "314 torch.Size([8, 3, 256, 256]) torch.Size([8, 1])\n",
            "315 torch.Size([8, 3, 256, 256]) torch.Size([8, 1])\n",
            "316 torch.Size([8, 3, 256, 256]) torch.Size([8, 1])\n",
            "317 torch.Size([8, 3, 256, 256]) torch.Size([8, 1])\n",
            "318 torch.Size([8, 3, 256, 256]) torch.Size([8, 1])\n",
            "319 torch.Size([8, 3, 256, 256]) torch.Size([8, 1])\n",
            "320 torch.Size([8, 3, 256, 256]) torch.Size([8, 1])\n",
            "321 torch.Size([8, 3, 256, 256]) torch.Size([8, 1])\n",
            "322 torch.Size([8, 3, 256, 256]) torch.Size([8, 1])\n",
            "323 torch.Size([8, 3, 256, 256]) torch.Size([8, 1])\n",
            "324 torch.Size([8, 3, 256, 256]) torch.Size([8, 1])\n",
            "325 torch.Size([8, 3, 256, 256]) torch.Size([8, 1])\n",
            "326 torch.Size([8, 3, 256, 256]) torch.Size([8, 1])\n",
            "327 torch.Size([8, 3, 256, 256]) torch.Size([8, 1])\n",
            "328 torch.Size([8, 3, 256, 256]) torch.Size([8, 1])\n",
            "329 torch.Size([8, 3, 256, 256]) torch.Size([8, 1])\n",
            "330 torch.Size([8, 3, 256, 256]) torch.Size([8, 1])\n",
            "331 torch.Size([8, 3, 256, 256]) torch.Size([8, 1])\n",
            "332 torch.Size([8, 3, 256, 256]) torch.Size([8, 1])\n",
            "333 torch.Size([8, 3, 256, 256]) torch.Size([8, 1])\n",
            "334 torch.Size([8, 3, 256, 256]) torch.Size([8, 1])\n",
            "335 torch.Size([8, 3, 256, 256]) torch.Size([8, 1])\n",
            "336 torch.Size([8, 3, 256, 256]) torch.Size([8, 1])\n",
            "337 torch.Size([8, 3, 256, 256]) torch.Size([8, 1])\n",
            "338 torch.Size([8, 3, 256, 256]) torch.Size([8, 1])\n",
            "339 torch.Size([8, 3, 256, 256]) torch.Size([8, 1])\n",
            "340 torch.Size([8, 3, 256, 256]) torch.Size([8, 1])\n",
            "341 torch.Size([8, 3, 256, 256]) torch.Size([8, 1])\n",
            "342 torch.Size([8, 3, 256, 256]) torch.Size([8, 1])\n",
            "343 torch.Size([8, 3, 256, 256]) torch.Size([8, 1])\n",
            "344 torch.Size([8, 3, 256, 256]) torch.Size([8, 1])\n",
            "345 torch.Size([8, 3, 256, 256]) torch.Size([8, 1])\n",
            "346 torch.Size([8, 3, 256, 256]) torch.Size([8, 1])\n",
            "347 torch.Size([8, 3, 256, 256]) torch.Size([8, 1])\n",
            "348 torch.Size([8, 3, 256, 256]) torch.Size([8, 1])\n",
            "349 torch.Size([8, 3, 256, 256]) torch.Size([8, 1])\n",
            "350 torch.Size([8, 3, 256, 256]) torch.Size([8, 1])\n",
            "351 torch.Size([8, 3, 256, 256]) torch.Size([8, 1])\n",
            "352 torch.Size([8, 3, 256, 256]) torch.Size([8, 1])\n",
            "353 torch.Size([8, 3, 256, 256]) torch.Size([8, 1])\n",
            "354 torch.Size([8, 3, 256, 256]) torch.Size([8, 1])\n",
            "355 torch.Size([8, 3, 256, 256]) torch.Size([8, 1])\n",
            "356 torch.Size([8, 3, 256, 256]) torch.Size([8, 1])\n",
            "357 torch.Size([8, 3, 256, 256]) torch.Size([8, 1])\n",
            "358 torch.Size([8, 3, 256, 256]) torch.Size([8, 1])\n",
            "359 torch.Size([8, 3, 256, 256]) torch.Size([8, 1])\n",
            "360 torch.Size([8, 3, 256, 256]) torch.Size([8, 1])\n",
            "361 torch.Size([8, 3, 256, 256]) torch.Size([8, 1])\n",
            "362 torch.Size([8, 3, 256, 256]) torch.Size([8, 1])\n",
            "363 torch.Size([8, 3, 256, 256]) torch.Size([8, 1])\n",
            "364 torch.Size([8, 3, 256, 256]) torch.Size([8, 1])\n",
            "365 torch.Size([8, 3, 256, 256]) torch.Size([8, 1])\n",
            "366 torch.Size([8, 3, 256, 256]) torch.Size([8, 1])\n",
            "367 torch.Size([8, 3, 256, 256]) torch.Size([8, 1])\n",
            "368 torch.Size([8, 3, 256, 256]) torch.Size([8, 1])\n",
            "369 torch.Size([8, 3, 256, 256]) torch.Size([8, 1])\n",
            "370 torch.Size([8, 3, 256, 256]) torch.Size([8, 1])\n",
            "371 torch.Size([8, 3, 256, 256]) torch.Size([8, 1])\n",
            "372 torch.Size([8, 3, 256, 256]) torch.Size([8, 1])\n",
            "373 torch.Size([8, 3, 256, 256]) torch.Size([8, 1])\n",
            "374 torch.Size([8, 3, 256, 256]) torch.Size([8, 1])\n",
            "375 torch.Size([8, 3, 256, 256]) torch.Size([8, 1])\n",
            "376 torch.Size([8, 3, 256, 256]) torch.Size([8, 1])\n",
            "377 torch.Size([8, 3, 256, 256]) torch.Size([8, 1])\n",
            "378 torch.Size([8, 3, 256, 256]) torch.Size([8, 1])\n",
            "379 torch.Size([8, 3, 256, 256]) torch.Size([8, 1])\n",
            "380 torch.Size([8, 3, 256, 256]) torch.Size([8, 1])\n",
            "381 torch.Size([8, 3, 256, 256]) torch.Size([8, 1])\n",
            "382 torch.Size([8, 3, 256, 256]) torch.Size([8, 1])\n",
            "383 torch.Size([8, 3, 256, 256]) torch.Size([8, 1])\n",
            "384 torch.Size([8, 3, 256, 256]) torch.Size([8, 1])\n",
            "385 torch.Size([8, 3, 256, 256]) torch.Size([8, 1])\n",
            "386 torch.Size([8, 3, 256, 256]) torch.Size([8, 1])\n",
            "387 torch.Size([8, 3, 256, 256]) torch.Size([8, 1])\n",
            "388 torch.Size([8, 3, 256, 256]) torch.Size([8, 1])\n",
            "389 torch.Size([8, 3, 256, 256]) torch.Size([8, 1])\n",
            "390 torch.Size([8, 3, 256, 256]) torch.Size([8, 1])\n",
            "391 torch.Size([8, 3, 256, 256]) torch.Size([8, 1])\n",
            "392 torch.Size([8, 3, 256, 256]) torch.Size([8, 1])\n",
            "393 torch.Size([8, 3, 256, 256]) torch.Size([8, 1])\n",
            "394 torch.Size([8, 3, 256, 256]) torch.Size([8, 1])\n",
            "395 torch.Size([8, 3, 256, 256]) torch.Size([8, 1])\n",
            "396 torch.Size([8, 3, 256, 256]) torch.Size([8, 1])\n",
            "397 torch.Size([8, 3, 256, 256]) torch.Size([8, 1])\n",
            "398 torch.Size([8, 3, 256, 256]) torch.Size([8, 1])\n",
            "399 torch.Size([8, 3, 256, 256]) torch.Size([8, 1])\n",
            "400 torch.Size([8, 3, 256, 256]) torch.Size([8, 1])\n",
            "401 torch.Size([8, 3, 256, 256]) torch.Size([8, 1])\n",
            "402 torch.Size([8, 3, 256, 256]) torch.Size([8, 1])\n",
            "403 torch.Size([8, 3, 256, 256]) torch.Size([8, 1])\n",
            "404 torch.Size([8, 3, 256, 256]) torch.Size([8, 1])\n",
            "405 torch.Size([8, 3, 256, 256]) torch.Size([8, 1])\n",
            "406 torch.Size([8, 3, 256, 256]) torch.Size([8, 1])\n",
            "407 torch.Size([8, 3, 256, 256]) torch.Size([8, 1])\n",
            "408 torch.Size([8, 3, 256, 256]) torch.Size([8, 1])\n",
            "409 torch.Size([8, 3, 256, 256]) torch.Size([8, 1])\n",
            "410 torch.Size([8, 3, 256, 256]) torch.Size([8, 1])\n",
            "411 torch.Size([8, 3, 256, 256]) torch.Size([8, 1])\n",
            "412 torch.Size([8, 3, 256, 256]) torch.Size([8, 1])\n",
            "413 torch.Size([8, 3, 256, 256]) torch.Size([8, 1])\n",
            "414 torch.Size([8, 3, 256, 256]) torch.Size([8, 1])\n",
            "415 torch.Size([8, 3, 256, 256]) torch.Size([8, 1])\n",
            "416 torch.Size([8, 3, 256, 256]) torch.Size([8, 1])\n",
            "417 torch.Size([8, 3, 256, 256]) torch.Size([8, 1])\n",
            "418 torch.Size([8, 3, 256, 256]) torch.Size([8, 1])\n",
            "419 torch.Size([8, 3, 256, 256]) torch.Size([8, 1])\n",
            "420 torch.Size([8, 3, 256, 256]) torch.Size([8, 1])\n",
            "421 torch.Size([8, 3, 256, 256]) torch.Size([8, 1])\n",
            "422 torch.Size([8, 3, 256, 256]) torch.Size([8, 1])\n",
            "423 torch.Size([8, 3, 256, 256]) torch.Size([8, 1])\n",
            "424 torch.Size([8, 3, 256, 256]) torch.Size([8, 1])\n",
            "425 torch.Size([8, 3, 256, 256]) torch.Size([8, 1])\n",
            "426 torch.Size([8, 3, 256, 256]) torch.Size([8, 1])\n",
            "427 torch.Size([8, 3, 256, 256]) torch.Size([8, 1])\n",
            "428 torch.Size([8, 3, 256, 256]) torch.Size([8, 1])\n",
            "429 torch.Size([8, 3, 256, 256]) torch.Size([8, 1])\n",
            "430 torch.Size([8, 3, 256, 256]) torch.Size([8, 1])\n",
            "431 torch.Size([8, 3, 256, 256]) torch.Size([8, 1])\n",
            "432 torch.Size([8, 3, 256, 256]) torch.Size([8, 1])\n",
            "433 torch.Size([8, 3, 256, 256]) torch.Size([8, 1])\n",
            "434 torch.Size([8, 3, 256, 256]) torch.Size([8, 1])\n",
            "435 torch.Size([8, 3, 256, 256]) torch.Size([8, 1])\n",
            "436 torch.Size([8, 3, 256, 256]) torch.Size([8, 1])\n",
            "437 torch.Size([8, 3, 256, 256]) torch.Size([8, 1])\n",
            "438 torch.Size([8, 3, 256, 256]) torch.Size([8, 1])\n",
            "439 torch.Size([8, 3, 256, 256]) torch.Size([8, 1])\n",
            "440 torch.Size([8, 3, 256, 256]) torch.Size([8, 1])\n",
            "441 torch.Size([8, 3, 256, 256]) torch.Size([8, 1])\n",
            "442 torch.Size([8, 3, 256, 256]) torch.Size([8, 1])\n",
            "443 torch.Size([8, 3, 256, 256]) torch.Size([8, 1])\n",
            "444 torch.Size([8, 3, 256, 256]) torch.Size([8, 1])\n",
            "445 torch.Size([8, 3, 256, 256]) torch.Size([8, 1])\n",
            "446 torch.Size([8, 3, 256, 256]) torch.Size([8, 1])\n",
            "447 torch.Size([8, 3, 256, 256]) torch.Size([8, 1])\n",
            "448 torch.Size([8, 3, 256, 256]) torch.Size([8, 1])\n",
            "449 torch.Size([8, 3, 256, 256]) torch.Size([8, 1])\n",
            "450 torch.Size([8, 3, 256, 256]) torch.Size([8, 1])\n",
            "451 torch.Size([8, 3, 256, 256]) torch.Size([8, 1])\n",
            "452 torch.Size([8, 3, 256, 256]) torch.Size([8, 1])\n",
            "453 torch.Size([8, 3, 256, 256]) torch.Size([8, 1])\n",
            "454 torch.Size([8, 3, 256, 256]) torch.Size([8, 1])\n",
            "455 torch.Size([8, 3, 256, 256]) torch.Size([8, 1])\n",
            "456 torch.Size([8, 3, 256, 256]) torch.Size([8, 1])\n",
            "457 torch.Size([8, 3, 256, 256]) torch.Size([8, 1])\n",
            "458 torch.Size([8, 3, 256, 256]) torch.Size([8, 1])\n",
            "459 torch.Size([8, 3, 256, 256]) torch.Size([8, 1])\n",
            "460 torch.Size([8, 3, 256, 256]) torch.Size([8, 1])\n",
            "461 torch.Size([8, 3, 256, 256]) torch.Size([8, 1])\n",
            "462 torch.Size([8, 3, 256, 256]) torch.Size([8, 1])\n",
            "463 torch.Size([8, 3, 256, 256]) torch.Size([8, 1])\n",
            "464 torch.Size([8, 3, 256, 256]) torch.Size([8, 1])\n",
            "465 torch.Size([8, 3, 256, 256]) torch.Size([8, 1])\n",
            "466 torch.Size([8, 3, 256, 256]) torch.Size([8, 1])\n",
            "467 torch.Size([8, 3, 256, 256]) torch.Size([8, 1])\n",
            "468 torch.Size([8, 3, 256, 256]) torch.Size([8, 1])\n",
            "469 torch.Size([8, 3, 256, 256]) torch.Size([8, 1])\n",
            "470 torch.Size([8, 3, 256, 256]) torch.Size([8, 1])\n",
            "471 torch.Size([8, 3, 256, 256]) torch.Size([8, 1])\n",
            "472 torch.Size([8, 3, 256, 256]) torch.Size([8, 1])\n",
            "473 torch.Size([8, 3, 256, 256]) torch.Size([8, 1])\n",
            "474 torch.Size([8, 3, 256, 256]) torch.Size([8, 1])\n",
            "475 torch.Size([8, 3, 256, 256]) torch.Size([8, 1])\n",
            "476 torch.Size([8, 3, 256, 256]) torch.Size([8, 1])\n",
            "477 torch.Size([8, 3, 256, 256]) torch.Size([8, 1])\n",
            "478 torch.Size([8, 3, 256, 256]) torch.Size([8, 1])\n",
            "479 torch.Size([8, 3, 256, 256]) torch.Size([8, 1])\n",
            "480 torch.Size([8, 3, 256, 256]) torch.Size([8, 1])\n",
            "481 torch.Size([8, 3, 256, 256]) torch.Size([8, 1])\n",
            "482 torch.Size([8, 3, 256, 256]) torch.Size([8, 1])\n",
            "483 torch.Size([8, 3, 256, 256]) torch.Size([8, 1])\n",
            "484 torch.Size([8, 3, 256, 256]) torch.Size([8, 1])\n",
            "485 torch.Size([8, 3, 256, 256]) torch.Size([8, 1])\n",
            "486 torch.Size([8, 3, 256, 256]) torch.Size([8, 1])\n",
            "487 torch.Size([8, 3, 256, 256]) torch.Size([8, 1])\n",
            "488 torch.Size([8, 3, 256, 256]) torch.Size([8, 1])\n",
            "489 torch.Size([8, 3, 256, 256]) torch.Size([8, 1])\n",
            "490 torch.Size([8, 3, 256, 256]) torch.Size([8, 1])\n",
            "491 torch.Size([8, 3, 256, 256]) torch.Size([8, 1])\n",
            "492 torch.Size([8, 3, 256, 256]) torch.Size([8, 1])\n",
            "493 torch.Size([8, 3, 256, 256]) torch.Size([8, 1])\n",
            "494 torch.Size([8, 3, 256, 256]) torch.Size([8, 1])\n",
            "495 torch.Size([8, 3, 256, 256]) torch.Size([8, 1])\n",
            "496 torch.Size([8, 3, 256, 256]) torch.Size([8, 1])\n",
            "497 torch.Size([8, 3, 256, 256]) torch.Size([8, 1])\n",
            "498 torch.Size([8, 3, 256, 256]) torch.Size([8, 1])\n",
            "499 torch.Size([8, 3, 256, 256]) torch.Size([8, 1])\n",
            "500 torch.Size([8, 3, 256, 256]) torch.Size([8, 1])\n",
            "501 torch.Size([8, 3, 256, 256]) torch.Size([8, 1])\n",
            "502 torch.Size([8, 3, 256, 256]) torch.Size([8, 1])\n",
            "503 torch.Size([8, 3, 256, 256]) torch.Size([8, 1])\n",
            "504 torch.Size([8, 3, 256, 256]) torch.Size([8, 1])\n",
            "505 torch.Size([8, 3, 256, 256]) torch.Size([8, 1])\n",
            "506 torch.Size([8, 3, 256, 256]) torch.Size([8, 1])\n",
            "507 torch.Size([8, 3, 256, 256]) torch.Size([8, 1])\n",
            "508 torch.Size([8, 3, 256, 256]) torch.Size([8, 1])\n",
            "509 torch.Size([8, 3, 256, 256]) torch.Size([8, 1])\n",
            "510 torch.Size([8, 3, 256, 256]) torch.Size([8, 1])\n",
            "511 torch.Size([8, 3, 256, 256]) torch.Size([8, 1])\n",
            "512 torch.Size([8, 3, 256, 256]) torch.Size([8, 1])\n",
            "513 torch.Size([8, 3, 256, 256]) torch.Size([8, 1])\n",
            "514 torch.Size([8, 3, 256, 256]) torch.Size([8, 1])\n",
            "515 torch.Size([8, 3, 256, 256]) torch.Size([8, 1])\n",
            "516 torch.Size([8, 3, 256, 256]) torch.Size([8, 1])\n",
            "517 torch.Size([8, 3, 256, 256]) torch.Size([8, 1])\n",
            "518 torch.Size([8, 3, 256, 256]) torch.Size([8, 1])\n",
            "519 torch.Size([8, 3, 256, 256]) torch.Size([8, 1])\n",
            "520 torch.Size([8, 3, 256, 256]) torch.Size([8, 1])\n",
            "521 torch.Size([8, 3, 256, 256]) torch.Size([8, 1])\n",
            "522 torch.Size([8, 3, 256, 256]) torch.Size([8, 1])\n",
            "523 torch.Size([8, 3, 256, 256]) torch.Size([8, 1])\n",
            "524 torch.Size([8, 3, 256, 256]) torch.Size([8, 1])\n",
            "525 torch.Size([8, 3, 256, 256]) torch.Size([8, 1])\n",
            "526 torch.Size([8, 3, 256, 256]) torch.Size([8, 1])\n",
            "527 torch.Size([8, 3, 256, 256]) torch.Size([8, 1])\n",
            "528 torch.Size([8, 3, 256, 256]) torch.Size([8, 1])\n",
            "529 torch.Size([8, 3, 256, 256]) torch.Size([8, 1])\n",
            "530 torch.Size([8, 3, 256, 256]) torch.Size([8, 1])\n",
            "531 torch.Size([8, 3, 256, 256]) torch.Size([8, 1])\n",
            "532 torch.Size([8, 3, 256, 256]) torch.Size([8, 1])\n",
            "533 torch.Size([8, 3, 256, 256]) torch.Size([8, 1])\n",
            "534 torch.Size([8, 3, 256, 256]) torch.Size([8, 1])\n",
            "535 torch.Size([8, 3, 256, 256]) torch.Size([8, 1])\n",
            "536 torch.Size([8, 3, 256, 256]) torch.Size([8, 1])\n",
            "537 torch.Size([8, 3, 256, 256]) torch.Size([8, 1])\n",
            "538 torch.Size([8, 3, 256, 256]) torch.Size([8, 1])\n",
            "539 torch.Size([8, 3, 256, 256]) torch.Size([8, 1])\n",
            "540 torch.Size([8, 3, 256, 256]) torch.Size([8, 1])\n",
            "541 torch.Size([8, 3, 256, 256]) torch.Size([8, 1])\n",
            "542 torch.Size([8, 3, 256, 256]) torch.Size([8, 1])\n",
            "543 torch.Size([8, 3, 256, 256]) torch.Size([8, 1])\n",
            "544 torch.Size([8, 3, 256, 256]) torch.Size([8, 1])\n",
            "545 torch.Size([8, 3, 256, 256]) torch.Size([8, 1])\n",
            "546 torch.Size([8, 3, 256, 256]) torch.Size([8, 1])\n",
            "547 torch.Size([8, 3, 256, 256]) torch.Size([8, 1])\n",
            "548 torch.Size([8, 3, 256, 256]) torch.Size([8, 1])\n",
            "549 torch.Size([8, 3, 256, 256]) torch.Size([8, 1])\n",
            "550 torch.Size([8, 3, 256, 256]) torch.Size([8, 1])\n",
            "551 torch.Size([8, 3, 256, 256]) torch.Size([8, 1])\n",
            "552 torch.Size([8, 3, 256, 256]) torch.Size([8, 1])\n",
            "553 torch.Size([8, 3, 256, 256]) torch.Size([8, 1])\n",
            "554 torch.Size([8, 3, 256, 256]) torch.Size([8, 1])\n",
            "555 torch.Size([8, 3, 256, 256]) torch.Size([8, 1])\n",
            "556 torch.Size([8, 3, 256, 256]) torch.Size([8, 1])\n",
            "557 torch.Size([8, 3, 256, 256]) torch.Size([8, 1])\n",
            "558 torch.Size([8, 3, 256, 256]) torch.Size([8, 1])\n",
            "559 torch.Size([8, 3, 256, 256]) torch.Size([8, 1])\n",
            "560 torch.Size([8, 3, 256, 256]) torch.Size([8, 1])\n",
            "561 torch.Size([8, 3, 256, 256]) torch.Size([8, 1])\n",
            "562 torch.Size([8, 3, 256, 256]) torch.Size([8, 1])\n",
            "563 torch.Size([8, 3, 256, 256]) torch.Size([8, 1])\n",
            "564 torch.Size([8, 3, 256, 256]) torch.Size([8, 1])\n",
            "565 torch.Size([8, 3, 256, 256]) torch.Size([8, 1])\n",
            "566 torch.Size([8, 3, 256, 256]) torch.Size([8, 1])\n",
            "567 torch.Size([8, 3, 256, 256]) torch.Size([8, 1])\n",
            "568 torch.Size([8, 3, 256, 256]) torch.Size([8, 1])\n",
            "569 torch.Size([8, 3, 256, 256]) torch.Size([8, 1])\n",
            "570 torch.Size([8, 3, 256, 256]) torch.Size([8, 1])\n",
            "571 torch.Size([8, 3, 256, 256]) torch.Size([8, 1])\n",
            "572 torch.Size([8, 3, 256, 256]) torch.Size([8, 1])\n",
            "573 torch.Size([8, 3, 256, 256]) torch.Size([8, 1])\n"
          ],
          "name": "stdout"
        }
      ]
    },
    {
      "cell_type": "markdown",
      "metadata": {
        "id": "abc1brITCRx6"
      },
      "source": [
        "### Visualize images"
      ]
    },
    {
      "cell_type": "code",
      "metadata": {
        "colab": {
          "base_uri": "https://localhost:8080/",
          "height": 243
        },
        "id": "sEnPvsg58drc",
        "outputId": "bdd12b10-ab6c-4eff-d482-035a54ce4cba"
      },
      "source": [
        "def show(imgs,labels):\n",
        "    print([label.item() for label in labels])\n",
        "    if not isinstance(imgs, list):\n",
        "        imgs = [imgs]\n",
        "    ncols = 4\n",
        "    nrows = len(imgs)//ncols\n",
        "    fix, axs = plt.subplots(nrows,ncols,squeeze=False)\n",
        "    r,c = 0,0\n",
        "\n",
        "    inv_normalize = transforms.Normalize(\n",
        "                    mean=[-0.485/0.229, -0.456/0.224, -0.406/0.225],\n",
        "                    std=[1/0.229, 1/0.224, 1/0.225]\n",
        "        )\n",
        "\n",
        "    for i, img in enumerate(imgs):\n",
        "        img = inv_normalize(img)\n",
        "        img = img.detach()\n",
        "        img = F.to_pil_image(img)\n",
        "        axs[r, c].imshow(np.asarray(img))\n",
        "        axs[r, c].set(xticklabels=[], yticklabels=[], xticks=[], yticks=[])\n",
        "        c += 1\n",
        "        if c % ncols == 0:\n",
        "            r += 1\n",
        "            c = 0\n",
        "    \n",
        "\n",
        "show([image for image in x],y)"
      ],
      "execution_count": 14,
      "outputs": [
        {
          "output_type": "stream",
          "text": [
            "[0.0, 0.0, 1.0, 1.0, 0.0, 0.0, 1.0, 1.0]\n"
          ],
          "name": "stdout"
        },
        {
          "output_type": "display_data",
          "data": {
            "image/png": "[encoded data removed]",
            "text/plain": [
              "<Figure size 432x288 with 8 Axes>"
            ]
          },
          "metadata": {
            "tags": []
          }
        }
      ]
    },
    {
      "cell_type": "markdown",
      "metadata": {
        "id": "2gMtCPH3Vl0A"
      },
      "source": [
        "### Load pretrained Resnet"
      ]
    },
    {
      "cell_type": "code",
      "metadata": {
        "colab": {
          "base_uri": "https://localhost:8080/",
          "height": 120,
          "referenced_widgets": [
            "b0ac8050d75342f3859710d24d634091",
            "a5380b45631b4df4b9bb769a3c9ae7fd",
            "a1656005a2764aa5a32e27e497fff9fe",
            "f90326752ca04253b4b8228d44cffa54",
            "be565cf1716a4c0c8c6c2c3a82f83473",
            "e3445c35c71b4dffbdb8ba3a6a17ff89",
            "5cb98baf88e94830aead4fb3a8dccd9e",
            "543fd7ccb55d43a094be6e74b7c13f46"
          ]
        },
        "id": "4jFOVbOOBsXq",
        "outputId": "edec028b-6c1e-44f6-e824-57d467622154"
      },
      "source": [
        "model = torch.hub.load('pytorch/vision:v0.9.0', 'resnet18', pretrained=True)\n",
        "# or any of these variants\n",
        "# model = torch.hub.load('pytorch/vision:v0.9.0', 'resnet34', pretrained=True)\n",
        "# model = torch.hub.load('pytorch/vision:v0.9.0', 'resnet50', pretrained=True)\n",
        "# model = torch.hub.load('pytorch/vision:v0.9.0', 'resnet101', pretrained=True)\n",
        "# model = torch.hub.load('pytorch/vision:v0.9.0', 'resnet152', pretrained=True)\n",
        "# model.eval()\n",
        "best_model_wts = copy.deepcopy(model.state_dict())"
      ],
      "execution_count": 15,
      "outputs": [
        {
          "output_type": "stream",
          "text": [
            "Downloading: \"https://github.com/pytorch/vision/archive/v0.9.0.zip\" to /root/.cache/torch/hub/v0.9.0.zip\n",
            "Downloading: \"https://download.pytorch.org/models/resnet18-5c106cde.pth\" to /root/.cache/torch/hub/checkpoints/resnet18-5c106cde.pth\n"
          ],
          "name": "stderr"
        },
        {
          "output_type": "display_data",
          "data": {
            "application/vnd.jupyter.widget-view+json": {
              "model_id": "b0ac8050d75342f3859710d24d634091",
              "version_minor": 0,
              "version_major": 2
            },
            "text/plain": [
              "HBox(children=(FloatProgress(value=0.0, max=46827520.0), HTML(value='')))"
            ]
          },
          "metadata": {
            "tags": []
          }
        },
        {
          "output_type": "stream",
          "text": [
            "\n"
          ],
          "name": "stdout"
        }
      ]
    },
    {
      "cell_type": "code",
      "metadata": {
        "id": "c7MrR8dsWn1S"
      },
      "source": [
        "#change final out for fine-tuning\n",
        "model.fc = torch.nn.Sequential(torch.nn.Linear(model.fc.in_features,1),torch.nn.Sigmoid())\n"
      ],
      "execution_count": 16,
      "outputs": []
    },
    {
      "cell_type": "code",
      "metadata": {
        "id": "6KsGVu-iXRDV"
      },
      "source": [
        "#Set hyperparameters for training\n",
        "criterion = torch.nn.BCELoss()\n",
        "optimizer = torch.optim.SGD(model.parameters(), lr=0.001, momentum=0.9)\n",
        "exp_lr_scheduler = torch.optim.lr_scheduler.StepLR(optimizer, step_size=7, gamma=0.1)"
      ],
      "execution_count": 30,
      "outputs": []
    },
    {
      "cell_type": "code",
      "metadata": {
        "colab": {
          "base_uri": "https://localhost:8080/"
        },
        "id": "V5ZMBp7iZ1Tn",
        "outputId": "f68e0a7f-71ec-4abe-d67a-fb344b4d38f5"
      },
      "source": [
        "num_epochs = 100\n",
        "model = model.train()\n",
        "device = 'cuda'\n",
        "model = model.to(device)\n",
        "\n",
        "for epoch in range(num_epochs):\n",
        "    # for i in range(10):\n",
        "    running_loss = 0\n",
        "    count = 0\n",
        "    for i in range(len(dataloader)//8):\n",
        "    # for i in range(100):\n",
        "        count += 1\n",
        "        inputs, labels = next(iter(dataloader))\n",
        "\n",
        "        inputs = inputs.to(device)\n",
        "        labels = labels.to(device)\n",
        "\n",
        "        optimizer.zero_grad()\n",
        "        output = model(inputs)\n",
        "        # print(output,type(output),output.dtype)\n",
        "        # print(labels,type(labels),labels.dtype)\n",
        "        loss = criterion(output,labels)\n",
        "\n",
        "        loss.backward()\n",
        "        optimizer.step()\n",
        "\n",
        "        running_loss += loss\n",
        "\n",
        "    print(epoch, running_loss/count)\n",
        "\n",
        "\n"
      ],
      "execution_count": null,
      "outputs": [
        {
          "output_type": "stream",
          "text": [
            "0 tensor(0.6933, device='cuda:0', grad_fn=<DivBackward0>)\n",
            "1 tensor(0.6931, device='cuda:0', grad_fn=<DivBackward0>)\n",
            "2 tensor(0.6931, device='cuda:0', grad_fn=<DivBackward0>)\n",
            "3 tensor(0.6931, device='cuda:0', grad_fn=<DivBackward0>)\n",
            "4 tensor(0.6930, device='cuda:0', grad_fn=<DivBackward0>)\n",
            "5 tensor(0.6926, device='cuda:0', grad_fn=<DivBackward0>)\n",
            "6 tensor(0.6930, device='cuda:0', grad_fn=<DivBackward0>)\n",
            "7 tensor(0.6929, device='cuda:0', grad_fn=<DivBackward0>)\n",
            "8 tensor(0.6930, device='cuda:0', grad_fn=<DivBackward0>)\n",
            "9 tensor(0.6929, device='cuda:0', grad_fn=<DivBackward0>)\n",
            "10 tensor(0.6925, device='cuda:0', grad_fn=<DivBackward0>)\n",
            "11 tensor(0.6924, device='cuda:0', grad_fn=<DivBackward0>)\n",
            "12 tensor(0.6935, device='cuda:0', grad_fn=<DivBackward0>)\n",
            "13 tensor(0.6921, device='cuda:0', grad_fn=<DivBackward0>)\n",
            "14 tensor(0.6929, device='cuda:0', grad_fn=<DivBackward0>)\n",
            "15 tensor(0.6928, device='cuda:0', grad_fn=<DivBackward0>)\n",
            "16 tensor(0.6926, device='cuda:0', grad_fn=<DivBackward0>)\n",
            "17 tensor(0.6925, device='cuda:0', grad_fn=<DivBackward0>)\n",
            "18 tensor(0.6927, device='cuda:0', grad_fn=<DivBackward0>)\n",
            "19 tensor(0.6930, device='cuda:0', grad_fn=<DivBackward0>)\n",
            "20 tensor(0.6925, device='cuda:0', grad_fn=<DivBackward0>)\n",
            "21 tensor(0.6928, device='cuda:0', grad_fn=<DivBackward0>)\n",
            "22 tensor(0.6933, device='cuda:0', grad_fn=<DivBackward0>)\n",
            "23 tensor(0.6930, device='cuda:0', grad_fn=<DivBackward0>)\n",
            "24 tensor(0.6928, device='cuda:0', grad_fn=<DivBackward0>)\n",
            "25 tensor(0.6928, device='cuda:0', grad_fn=<DivBackward0>)\n",
            "26 tensor(0.6923, device='cuda:0', grad_fn=<DivBackward0>)\n",
            "27 tensor(0.6925, device='cuda:0', grad_fn=<DivBackward0>)\n",
            "28 tensor(0.6923, device='cuda:0', grad_fn=<DivBackward0>)\n",
            "29 tensor(0.6923, device='cuda:0', grad_fn=<DivBackward0>)\n",
            "30 tensor(0.6926, device='cuda:0', grad_fn=<DivBackward0>)\n",
            "31 tensor(0.6932, device='cuda:0', grad_fn=<DivBackward0>)\n",
            "32 tensor(0.6925, device='cuda:0', grad_fn=<DivBackward0>)\n",
            "33 tensor(0.6923, device='cuda:0', grad_fn=<DivBackward0>)\n",
            "34 tensor(0.6922, device='cuda:0', grad_fn=<DivBackward0>)\n",
            "35 tensor(0.6926, device='cuda:0', grad_fn=<DivBackward0>)\n",
            "36 tensor(0.6930, device='cuda:0', grad_fn=<DivBackward0>)\n",
            "37 tensor(0.6923, device='cuda:0', grad_fn=<DivBackward0>)\n",
            "38 tensor(0.6923, device='cuda:0', grad_fn=<DivBackward0>)\n",
            "39 tensor(0.6923, device='cuda:0', grad_fn=<DivBackward0>)\n"
          ],
          "name": "stdout"
        }
      ]
    },
    {
      "cell_type": "code",
      "metadata": {
        "id": "vvuHbVt9fStp"
      },
      "source": [
        ""
      ],
      "execution_count": null,
      "outputs": []
    }
  ]
}